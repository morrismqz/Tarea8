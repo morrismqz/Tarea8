{
 "cells": [
  {
   "cell_type": "markdown",
   "id": "c9e1b7b1",
   "metadata": {},
   "source": [
    "<img style=\"float: left; margin: 30px 15px 15px 15px;\" src=\"https://encrypted-tbn0.gstatic.com/images?q=tbn:ANd9GcTFzQj91sOlkeDFkg5HDbjtR4QJYmLXkfMNig&usqp=CAU\" width=\"400\" height=\"500\" /> \n",
    "    \n",
    "    \n",
    "### <font color='navy'> Simulación matemática. \n",
    "\n",
    "**Nombres:** Jesus Alejandro Marquez Jimenez\n",
    "\n",
    "**Fecha:** 01 de noviembre del 2023.\n",
    "\n",
    "**Expediente** : 733761.\n",
    "    \n",
    "**Profesor:** Oscar David Jaramillo Zuluaga.\n",
    "    \n",
    "**Link Github**: https://github.com/morrismqz/Tarea8\n",
    "\n",
    "# Tarea X: Clase X\n"
   ]
  },
  {
   "cell_type": "markdown",
   "id": "f8fa13a7",
   "metadata": {},
   "source": [
    "# Proyección de Ahorros en un Banco\n",
    "\n",
    "**Objetivo:** Proyectar un ahorro mensual para que, al término de su carrera en 13 meses, se tengan $85,000 MXN en la cuenta, considerando una tasa de interés del 2% anual ofrecida por Banregio.\n",
    "\n",
    "## Teoría:\n",
    "\n",
    "Para calcular el depósito mensual necesario, debemos considerar no solo el monto final deseado, sino también la tasa de interés que se acumulará en el tiempo. La fórmula de valor futuro (FV) se define como:\n",
    "\n",
    "$ FV = PV(1 + r)^n $\n",
    "\n",
    "Donde:\n",
    "- $ FV $ es el valor futuro o monto final.\n",
    "- $ PV $ es el valor presente o monto inicial.\n",
    "- $ r $ es la tasa de interés por período.\n",
    "- $ n $ es el número de períodos.\n",
    "\n",
    "Sin embargo, en este problema, estamos haciendo depósitos constantes (anualidades) cada mes, lo cual es una situación de valor futuro de una anualidad. Por lo tanto, debemos usar la fórmula para el valor futuro de una anualidad ordinaria, que se puede expresar como:\n",
    "\n",
    "$ FV = PMT \\times \\frac{(1 + r)^n - 1}{r} $\n",
    "\n",
    "Donde:\n",
    "- $ PMT $ es el pago o depósito mensual.\n",
    "\n",
    "Dado que conocemos $ FV $, $ r $ y $ n $, podemos despejar $ PMT $ para determinar el depósito mensual necesario.\n",
    "\n",
    "## Implementación:\n"
   ]
  },
  {
   "cell_type": "code",
   "execution_count": 18,
   "id": "d3ece579",
   "metadata": {},
   "outputs": [
    {
     "name": "stdout",
     "output_type": "stream",
     "text": [
      "         Fecha  Mes  Depósito Mensual  Interés  Principal  Balance Acumulado\n",
      "0   30-11-2023    1           6473.33     0.00    6473.33            6473.33\n",
      "1   30-12-2023    2           6473.33    10.79    6462.54           12946.66\n",
      "2   29-01-2024    3           6473.33    21.58    6451.75           19419.99\n",
      "3   28-02-2024    4           6473.33    32.37    6440.96           25893.32\n",
      "4   29-03-2024    5           6473.33    43.16    6430.18           32366.65\n",
      "5   28-04-2024    6           6473.33    53.94    6419.39           38839.99\n",
      "6   28-05-2024    7           6473.33    64.73    6408.60           45313.32\n",
      "7   27-06-2024    8           6473.33    75.52    6397.81           51786.65\n",
      "8   27-07-2024    9           6473.33    86.31    6387.02           58259.98\n",
      "9   26-08-2024   10           6473.33    97.10    6376.23           64733.31\n",
      "10  25-09-2024   11           6473.33   107.89    6365.44           71206.64\n",
      "11  25-10-2024   12           6473.33   118.68    6354.65           77679.97\n",
      "12  24-11-2024   13           6473.33   129.47    6343.86           84153.30\n"
     ]
    },
    {
     "data": {
      "image/png": "[encoded data removed]",
      "text/plain": [
       "<Figure size 720x432 with 1 Axes>"
      ]
     },
     "metadata": {
      "needs_background": "light"
     },
     "output_type": "display_data"
    }
   ],
   "source": [
    "import numpy_financial as npf\n",
    "import numpy as np\n",
    "import pandas as pd\n",
    "import matplotlib.pyplot as plt\n",
    "from datetime import datetime, timedelta\n",
    "\n",
    "\n",
    "monto_final = 85000\n",
    "tasa = 0.02 / 12  \n",
    "meses = 13 \n",
    "\n",
    "\n",
    "dep_mensual = npf.pmt(tasa, meses, 0, -monto_final)\n",
    "\n",
    "\n",
    "tabla = []\n",
    "acumulado = 0  \n",
    "\n",
    "fecha_inicio = datetime.now().replace(day=1) - timedelta(days=1)\n",
    "\n",
    "for mes in range(1, meses + 1):\n",
    "    interes = acumulado * tasa\n",
    "    principal = dep_mensual - interes\n",
    "    acumulado += dep_mensual\n",
    "    \n",
    "   \n",
    "    fecha_deposito = (fecha_inicio + timedelta(days=1)).replace(day=1) + timedelta(days=mes*30) - timedelta(days=1)\n",
    "    \n",
    "    tabla.append([fecha_deposito.strftime('%d-%m-%Y'), mes, dep_mensual, interes, principal, acumulado])\n",
    "\n",
    "\n",
    "df = pd.DataFrame(tabla, columns=[\"Fecha\", \"Mes\", \"Depósito Mensual\", \"Interés\", \"Principal\", \"Balance Acumulado\"])\n",
    "\n",
    "\n",
    "df = df.round(2)\n",
    "\n",
    "\n",
    "print(df)\n",
    "\n",
    "plt.figure(figsize=(10, 6))\n",
    "plt.plot(df[\"Mes\"], df[\"Balance Acumulado\"], marker='o')\n",
    "plt.title(\"Balance Acumulado a lo largo de los meses\")\n",
    "plt.xlabel(\"Mes\")\n",
    "plt.ylabel(\"Balance Acumulado (MXN)\")\n",
    "plt.grid(True)\n",
    "plt.tight_layout()\n",
    "plt.show()\n",
    "\n"
   ]
  },
  {
   "cell_type": "code",
   "execution_count": null,
   "id": "199cca3c",
   "metadata": {},
   "outputs": [],
   "source": [
    "v"
   ]
  }
 ],
 "metadata": {
  "kernelspec": {
   "display_name": "Python 3 (ipykernel)",
   "language": "python",
   "name": "python3"
  },
  "language_info": {
   "codemirror_mode": {
    "name": "ipython",
    "version": 3
   },
   "file_extension": ".py",
   "mimetype": "text/x-python",
   "name": "python",
   "nbconvert_exporter": "python",
   "pygments_lexer": "ipython3",
   "version": "3.9.12"
  }
 },
 "nbformat": 4,
 "nbformat_minor": 5
}
